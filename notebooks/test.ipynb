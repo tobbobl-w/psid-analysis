{
 "cells": [
  {
   "cell_type": "code",
   "execution_count": null,
   "id": "9cf1e7ca",
   "metadata": {},
   "outputs": [
    {
     "name": "stdout",
     "output_type": "stream",
     "text": [
      "Hello, Economics Code Camp!\n",
      "I'm running Python in a container!\n",
      "US GDP growth rate 2020-2021: 8.81%\n"
     ]
    }
   ],
   "source": [
    "import camp.utils as utils \n",
    "utils.hello(\"tobias\")\n",
    "\n",
    "print(\"Hello, Economics Code Camp!\")\n",
    "print(f\"I'm running Python in a container!\")\n",
    "\n",
    "# Let's do some basic math\n",
    "gdp_2020 = 21_427_700  # US GDP in millions of dollars\n",
    "gdp_2021 = 23_315_080\n",
    "growth_rate = (gdp_2021 - gdp_2020) / gdp_2020 * 100\n",
    "\n",
    "print(f\"US GDP growth rate 2020-2021: {growth_rate:.2f}%\")"
   ]
  },
  {
   "cell_type": "code",
   "execution_count": 11,
   "id": "589583bb",
   "metadata": {},
   "outputs": [
    {
     "name": "stdout",
     "output_type": "stream",
     "text": [
      "100000\n"
     ]
    }
   ],
   "source": [
    "print(10**5)"
   ]
  }
 ],
 "metadata": {
  "kernelspec": {
   "display_name": "Python 3",
   "language": "python",
   "name": "python3"
  },
  "language_info": {
   "codemirror_mode": {
    "name": "ipython",
    "version": 3
   },
   "file_extension": ".py",
   "mimetype": "text/x-python",
   "name": "python",
   "nbconvert_exporter": "python",
   "pygments_lexer": "ipython3",
   "version": "3.11.13"
  }
 },
 "nbformat": 4,
 "nbformat_minor": 5
}
