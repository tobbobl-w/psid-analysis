{
 "cells": [
  {
   "cell_type": "code",
   "execution_count": 32,
   "id": "9cf1e7ca",
   "metadata": {},
   "outputs": [
    {
     "name": "stdout",
     "output_type": "stream",
     "text": [
      "The autoreload extension is already loaded. To reload it, use:\n",
      "  %reload_ext autoreload\n"
     ]
    }
   ],
   "source": [
    "%load_ext autoreload\n",
    "%autoreload 2\n",
    "\n",
    "import numpy as np"
   ]
  },
  {
   "cell_type": "code",
   "execution_count": 28,
   "id": "878cc273",
   "metadata": {},
   "outputs": [
    {
     "name": "stdout",
     "output_type": "stream",
     "text": [
      "Your name is and it still is : tobias%\n",
      "Hello, Economics Code Camp!\n",
      "I'm running Python in a container!\n",
      "US GDP growth rate 2020-2021: 8.81%\n"
     ]
    }
   ],
   "source": [
    "import camp  \n",
    "camp.utils.hello(\"tobias\")\n",
    "\n",
    "print(\"Hello, Economics Code Camp!\")\n",
    "print(f\"I'm running Python in a container!\")\n",
    "\n",
    "# Let's do some basic math\n",
    "gdp_2020 = 21_427_700  # US GDP in millions of dollars\n",
    "gdp_2021 = 23_315_080\n",
    "growth_rate = (gdp_2021 - gdp_2020) / gdp_2020 * 100\n",
    "\n",
    "print(f\"US GDP growth rate 2020-2021: {growth_rate:.2f}%\")"
   ]
  },
  {
   "cell_type": "code",
   "execution_count": 29,
   "id": "0e74da15",
   "metadata": {},
   "outputs": [
    {
     "data": {
      "text/plain": [
       "2.5"
      ]
     },
     "execution_count": 29,
     "metadata": {},
     "output_type": "execute_result"
    }
   ],
   "source": [
    "camp.utils.compute_mean([1,2,3,4])"
   ]
  },
  {
   "cell_type": "code",
   "execution_count": 37,
   "id": "589583bb",
   "metadata": {},
   "outputs": [
    {
     "data": {
      "text/plain": [
       "0.0"
      ]
     },
     "execution_count": 37,
     "metadata": {},
     "output_type": "execute_result"
    }
   ],
   "source": [
    "np.random.seed(0)\n",
    "n = 1000\n",
    "x = np.random.rand(n)\n",
    "\n",
    "camp.utils.calculate_sample_skewness([1,2,3,4,5])\n"
   ]
  },
  {
   "cell_type": "code",
   "execution_count": null,
   "id": "4cd8bd23",
   "metadata": {},
   "outputs": [],
   "source": [
    "import numpy as np\n",
    "from scipy import stats\n",
    "\n",
    "\n"
   ]
  }
 ],
 "metadata": {
  "kernelspec": {
   "display_name": "Python 3",
   "language": "python",
   "name": "python3"
  },
  "language_info": {
   "codemirror_mode": {
    "name": "ipython",
    "version": 3
   },
   "file_extension": ".py",
   "mimetype": "text/x-python",
   "name": "python",
   "nbconvert_exporter": "python",
   "pygments_lexer": "ipython3",
   "version": "3.11.13"
  }
 },
 "nbformat": 4,
 "nbformat_minor": 5
}
